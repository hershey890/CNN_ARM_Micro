{
 "cells": [
  {
   "cell_type": "code",
   "execution_count": 1,
   "metadata": {},
   "outputs": [
    {
     "name": "stdout",
     "output_type": "stream",
     "text": [
      "[[20.24 36.14 52.57 52.49 48.12 36.38]\n",
      " [31.93 34.93 37.98 45.44 32.6  24.64]\n",
      " [47.55 36.96 39.07 26.03 35.55 41.39]\n",
      " [33.02 35.53 31.14 45.57 52.3  59.61]\n",
      " [18.32 28.95 44.64 46.94 49.24 56.39]\n",
      " [41.81 41.79 36.01 46.84 47.05 45.87]]\n"
     ]
    }
   ],
   "source": [
    "import numpy as np\n",
    "import cv2\n",
    "import scipy.signal as sig\n",
    "\n",
    "input = np.array(((1,4,7,6,8,4), (4,3,2,9,0,1), (9,4,5,0,4,7), (4,2,3,9,5,8), (1,0,9,3,5,7), (9,3,4,5,7,4)))\n",
    "filter = np.array(((0.5, 0.78, 1.32),(1.1,2.11, 1.43),(0.39, 0.13, 0.89)))\n",
    "pad_width = filter.shape[0] // 2\n",
    "padded_input = np.pad(input, pad_width, \"edge\")\n",
    "\n",
    "output = sig.correlate2d(padded_input, filter, \"same\")[1:-1, 1:-1]\n",
    "print(output)\n",
    "# output = np.convolve(test_matrix, filter)"
   ]
  },
  {
   "cell_type": "code",
   "execution_count": null,
   "metadata": {},
   "outputs": [],
   "source": []
  },
  {
   "cell_type": "code",
   "execution_count": null,
   "metadata": {},
   "outputs": [],
   "source": []
  }
 ],
 "metadata": {
  "kernelspec": {
   "display_name": "Python 3",
   "language": "python",
   "name": "python3"
  },
  "language_info": {
   "codemirror_mode": {
    "name": "ipython",
    "version": 3
   },
   "file_extension": ".py",
   "mimetype": "text/x-python",
   "name": "python",
   "nbconvert_exporter": "python",
   "pygments_lexer": "ipython3",
   "version": "3.7.4"
  }
 },
 "nbformat": 4,
 "nbformat_minor": 2
}
